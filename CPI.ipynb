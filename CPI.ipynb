{
 "cells": [
  {
   "cell_type": "code",
   "execution_count": 1,
   "metadata": {},
   "outputs": [],
   "source": [
    "import eikon as ek\n",
    "import pandas as pd\n",
    "import numpy as np\n",
    "from datetime import datetime\n",
    "\n",
    "# Set your Eikon API key\n",
    "ek.set_app_key('57469eaf4f704d63884a1a1255f48272e3b710ae')  # Replace with your actual API key\n",
    "\n"
   ]
  },
  {
   "cell_type": "code",
   "execution_count": 3,
   "metadata": {},
   "outputs": [],
   "source": [
    "# Read the Excel file containing tickers\n",
    "file_path = 'DT_cpi.xlsx'  # Replace with the actual file path\n",
    "df = pd.read_excel(file_path)\n",
    "\n",
    "# Extract the 'Ticker' column as a list\n",
    "tickers = df['Ticker'].dropna().tolist()  # Ensure no NaN values are included\n",
    "\n",
    "# Initialize a dictionary to store the CPI data\n",
    "cpi_data = {}"
   ]
  },
  {
   "cell_type": "code",
   "execution_count": 7,
   "metadata": {},
   "outputs": [
    {
     "name": "stdout",
     "output_type": "stream",
     "text": [
      "['aAUCPI', 'aEUCPI', 'aBECPI', 'aGBCPI', 'aCACPI', 'aKRCPI', 'aCZCPI', 'aDKCPI', 'aFICPI', 'aFRCPI', 'aDECPI', 'aGRCPI', 'aHKCPI', 'aHUCPI', 'aIRCPI', 'aITCPI', 'aJPCPI', 'aNLCPI', 'aNZCPI', 'aNOCPI', 'aPLCPI', 'aPTCPI', 'aESCPI', 'aLUCPI', 'aSICPI', 'aEECPI', 'aSECPI', 'aCHCPI', 'aUSCPI', 'aBRCPI', 'aBGCPI', 'aCLCPI', 'aCNCPI', 'aCOCPI', 'aINCPI', 'aIDCPI', 'aILCPI', 'aJMCPI', 'aMYCPI', 'aMXCPI', 'aPECPI', 'aPHCPI', 'aRUCPI', 'aZACPI', 'aKRCPI', 'aTWCPI', 'aTHCPI', 'aTRCPI']\n"
     ]
    }
   ],
   "source": [
    "# head df\n",
    "print(tickers)"
   ]
  },
  {
   "cell_type": "code",
   "execution_count": null,
   "metadata": {},
   "outputs": [
    {
     "name": "stdout",
     "output_type": "stream",
     "text": [
      "Error calculating metrics: float() argument must be a string or a real number, not 'NAType'\n"
     ]
    },
    {
     "name": "stderr",
     "output_type": "stream",
     "text": [
      "C:\\Users\\fajka\\AppData\\Local\\Packages\\PythonSoftwareFoundation.Python.3.12_qbz5n2kfra8p0\\LocalCache\\local-packages\\Python312\\site-packages\\eikon\\data_grid.py:255: FutureWarning: errors='ignore' is deprecated and will raise in a future version. Use to_numeric without passing `errors` and catch exceptions explicitly instead\n",
      "  df = df.apply(pd.to_numeric, errors='ignore')\n",
      "C:\\Users\\fajka\\AppData\\Local\\Temp\\ipykernel_16728\\797101550.py:21: FutureWarning: Calling float on a single element Series is deprecated and will raise a TypeError in the future. Use float(ser.iloc[0]) instead\n",
      "  current_price = float(bond_data.get(\"BID\", 0))\n"
     ]
    }
   ],
   "source": [
    "# Download CPI data for each ticker\n",
    "for ticker in tickers:\n",
    "    try:\n",
    "        # Fetch historical data for the ticker\n",
    "        data = ek.get_timeseries(ticker, start_date=\"2010-01-01\", end_date=\"2024-12-31\", interval=\"monthly\")\n",
    "        cpi_data[ticker] = data\n",
    "    except Exception as e:\n",
    "        print(f\"Failed to fetch data for {ticker}: {e}\")\n",
    "\n",
    "# Combine all data into a single DataFrame\n",
    "combined_df = pd.concat(cpi_data.values(), keys=cpi_data.keys(), names=[\"Ticker\", \"Date\"])\n",
    "\n",
    "# Reset index for a cleaner DataFrame\n",
    "combined_df.reset_index(level=0, inplace=True)\n",
    "\n",
    "# Save the combined data to a new Excel file\n",
    "output_file = 'cpi_data.xlsx'\n",
    "combined_df.to_excel(output_file, index=False)\n",
    "\n",
    "print(f\"CPI data has been saved to {output_file}\")"
   ]
  }
 ],
 "metadata": {
  "kernelspec": {
   "display_name": "Python 3",
   "language": "python",
   "name": "python3"
  },
  "language_info": {
   "codemirror_mode": {
    "name": "ipython",
    "version": 3
   },
   "file_extension": ".py",
   "mimetype": "text/x-python",
   "name": "python",
   "nbconvert_exporter": "python",
   "pygments_lexer": "ipython3",
   "version": "3.12.8"
  }
 },
 "nbformat": 4,
 "nbformat_minor": 2
}
