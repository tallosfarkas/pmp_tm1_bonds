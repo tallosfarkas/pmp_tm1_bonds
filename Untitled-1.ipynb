{
 "cells": [
  {
   "cell_type": "code",
   "execution_count": 1,
   "metadata": {},
   "outputs": [
    {
     "name": "stderr",
     "output_type": "stream",
     "text": [
      "2024-12-11 09:08:29,043 P[11028] [MainThread 10964] Error: no proxy address identified.\n",
      "Check if Eikon Desktop or Eikon API Proxy is running.\n",
      "2024-12-11 09:08:29,045 P[11028] [MainThread 10964] Error on handshake url http://127.0.0.1:None/api/handshake : InvalidURL(\"Invalid port: 'None'\")\n",
      "2024-12-11 09:08:29,046 P[11028] [MainThread 10964] Error on handshake url http://127.0.0.1:None/api/handshake : InvalidURL(\"Invalid port: 'None'\")\n",
      "2024-12-11 09:08:29,046 P[11028] [MainThread 10964] Port number was not identified, cannot send any request\n"
     ]
    }
   ],
   "source": [
    "import eikon as ek\n",
    "import pandas as pd\n",
    "import numpy as np\n",
    "from datetime import datetime\n",
    "\n",
    "# Set your Eikon API key\n",
    "ek.set_app_key('57469eaf4f704d63884a1a1255f48272e3b710ae')  # Replace with your actual API key\n",
    "\n"
   ]
  },
  {
   "cell_type": "code",
   "execution_count": 3,
   "metadata": {},
   "outputs": [
    {
     "name": "stdout",
     "output_type": "stream",
     "text": [
      "Error calculating metrics: float() argument must be a string or a real number, not 'NAType'\n"
     ]
    },
    {
     "name": "stderr",
     "output_type": "stream",
     "text": [
      "C:\\Users\\fajka\\AppData\\Local\\Packages\\PythonSoftwareFoundation.Python.3.12_qbz5n2kfra8p0\\LocalCache\\local-packages\\Python312\\site-packages\\eikon\\data_grid.py:255: FutureWarning: errors='ignore' is deprecated and will raise in a future version. Use to_numeric without passing `errors` and catch exceptions explicitly instead\n",
      "  df = df.apply(pd.to_numeric, errors='ignore')\n",
      "C:\\Users\\fajka\\AppData\\Local\\Temp\\ipykernel_16728\\797101550.py:21: FutureWarning: Calling float on a single element Series is deprecated and will raise a TypeError in the future. Use float(ser.iloc[0]) instead\n",
      "  current_price = float(bond_data.get(\"BID\", 0))\n"
     ]
    }
   ],
   "source": [
    "\n",
    "# Define the ISIN and necessary metrics\n",
    "isin = \"XS081461279=\"\n",
    "# Function to fetch bond data\n",
    "def fetch_bond_data(isin):\n",
    "    try:\n",
    "        # Fetch bond details\n",
    "        fields = [\n",
    "            \"BID\", \"ASK\", \"TRDPRC_1\", \"CF_YIELD_YLD\", \"MOD_DUR\", \"ISSUE_DT\",\n",
    "            \"MATURITY\", \"COUPON\", \"FREQ\", \"CURRENCY\", \"FACE_VALUE\"\n",
    "        ]\n",
    "        bond_data = ek.get_data(isin, fields)\n",
    "        return bond_data[0]\n",
    "    except Exception as e:\n",
    "        print(f\"Error fetching bond data: {e}\")\n",
    "        return None\n",
    "\n",
    "# Function to calculate bond metrics\n",
    "def calculate_bond_metrics(bond_data):\n",
    "    try:\n",
    "        # Extract relevant fields\n",
    "        current_price = float(bond_data.get(\"BID\", 0))\n",
    "        coupon_rate = float(bond_data.get(\"COUPON\", 0))\n",
    "        maturity_date = datetime.strptime(bond_data[\"MATURITY\"], \"%Y-%m-%d\")\n",
    "        issue_date = datetime.strptime(bond_data[\"ISSUE_DT\"], \"%Y-%m-%d\")\n",
    "        modified_duration = float(bond_data.get(\"MOD_DUR\", 0))\n",
    "        face_value = float(bond_data.get(\"FACE_VALUE\", 100))\n",
    "        \n",
    "        # Calculate years to maturity\n",
    "        today = datetime.now()\n",
    "        years_to_maturity = (maturity_date - today).days / 365.25\n",
    "        \n",
    "        # Calculate bond metrics\n",
    "        annual_coupon_payment = coupon_rate * face_value / 100\n",
    "        current_yield = (annual_coupon_payment / current_price) * 100\n",
    "        \n",
    "        # Yield to Maturity (Approximation)\n",
    "        ytm = (\n",
    "            (annual_coupon_payment + (face_value - current_price) / years_to_maturity) /\n",
    "            ((face_value + current_price) / 2)\n",
    "        ) * 100\n",
    "        \n",
    "        # Price-to-Par Ratio\n",
    "        price_to_par = (current_price / face_value) * 100\n",
    "        \n",
    "        # Example purchase price (use historical price if available)\n",
    "        purchase_price = 37.67  # Replace with actual purchase price if available\n",
    "        price_change = ((current_price - purchase_price) / purchase_price) * 100\n",
    "        \n",
    "        # Yield per Duration\n",
    "        yield_per_duration = ytm / modified_duration if modified_duration > 0 else None\n",
    "        \n",
    "        # Return all calculated metrics\n",
    "        metrics = {\n",
    "            \"Current Price (BID)\": current_price,\n",
    "            \"Current Yield (%)\": current_yield,\n",
    "            \"YTM (%)\": ytm,\n",
    "            \"Price-to-Par (%)\": price_to_par,\n",
    "            \"Price Change (%)\": price_change,\n",
    "            \"Years to Maturity\": years_to_maturity,\n",
    "            \"Modified Duration\": modified_duration,\n",
    "            \"Yield per Duration\": yield_per_duration,\n",
    "        }\n",
    "        return metrics\n",
    "    except Exception as e:\n",
    "        print(f\"Error calculating metrics: {e}\")\n",
    "        return None\n",
    "\n",
    "# Main script\n",
    "if __name__ == \"__main__\":\n",
    "    # Fetch bond data\n",
    "    bond_data = fetch_bond_data(isin)\n",
    "    if bond_data is not None:\n",
    "        # Calculate bond metrics\n",
    "        metrics = calculate_bond_metrics(bond_data)\n",
    "        if metrics:\n",
    "            # Print the metrics\n",
    "            print(\"Bond Metrics:\")\n",
    "            for key, value in metrics.items():\n",
    "                print(f\"{key}: {value}\")\n",
    "    else:\n",
    "        print(\"Failed to fetch bond data.\")\n",
    "\n"
   ]
  }
 ],
 "metadata": {
  "kernelspec": {
   "display_name": "Python 3",
   "language": "python",
   "name": "python3"
  },
  "language_info": {
   "codemirror_mode": {
    "name": "ipython",
    "version": 3
   },
   "file_extension": ".py",
   "mimetype": "text/x-python",
   "name": "python",
   "nbconvert_exporter": "python",
   "pygments_lexer": "ipython3",
   "version": "3.12.8"
  }
 },
 "nbformat": 4,
 "nbformat_minor": 2
}
